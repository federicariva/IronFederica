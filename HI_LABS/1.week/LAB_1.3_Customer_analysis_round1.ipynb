{
 "cells": [
  {
   "cell_type": "code",
   "execution_count": 1,
   "metadata": {},
   "outputs": [],
   "source": [
    "#import pandas\n",
    "import pandas as pd"
   ]
  },
  {
   "cell_type": "markdown",
   "metadata": {},
   "source": [
    "## Read the three files into python as dataframes"
   ]
  },
  {
   "cell_type": "code",
   "execution_count": 27,
   "metadata": {},
   "outputs": [],
   "source": [
    "#Read the three files into python as dataframes\n",
    "df1 = pd.read_csv('file1.csv')\n",
    "#df1 #to check if you imported correctly"
   ]
  },
  {
   "cell_type": "code",
   "execution_count": 28,
   "metadata": {},
   "outputs": [],
   "source": [
    "df2 = pd.read_csv('file2.csv')\n",
    "#df2 #to check if you imported correctly"
   ]
  },
  {
   "cell_type": "code",
   "execution_count": 29,
   "metadata": {},
   "outputs": [],
   "source": [
    "df3 = pd.read_csv('file3.csv')\n",
    "#df3 #to check if you imported correctly"
   ]
  },
  {
   "cell_type": "markdown",
   "metadata": {},
   "source": [
    "## Show the DataFrame's shape"
   ]
  },
  {
   "cell_type": "code",
   "execution_count": 30,
   "metadata": {},
   "outputs": [
    {
     "name": "stdout",
     "output_type": "stream",
     "text": [
      "dataframe 1 has 4008 rows and 11 columns\n"
     ]
    }
   ],
   "source": [
    "#Show the DataFrame's shape: dataframe 1\n",
    "[rowdf1,coldf1] = df1.shape\n",
    "print (\"dataframe 1 has \" + str(rowdf1) + \" rows and \" + str(coldf1) + \" columns\")"
   ]
  },
  {
   "cell_type": "code",
   "execution_count": 31,
   "metadata": {},
   "outputs": [
    {
     "name": "stdout",
     "output_type": "stream",
     "text": [
      "dataframe 2 has 996 rows and 11 columns\n"
     ]
    }
   ],
   "source": [
    "#Show the DataFrame's shape: dataframe 2\n",
    "[rowdf2,coldf2] = df2.shape\n",
    "print (\"dataframe 2 has \" + str(rowdf2) + \" rows and \" + str(coldf2) + \" columns\")"
   ]
  },
  {
   "cell_type": "code",
   "execution_count": 32,
   "metadata": {},
   "outputs": [
    {
     "name": "stdout",
     "output_type": "stream",
     "text": [
      "dataframe 3 has 7070 rows and 11 columns\n"
     ]
    }
   ],
   "source": [
    "#Show the DataFrame's shape: dataframe 2\n",
    "[rowdf3,coldf3] = df3.shape\n",
    "print (\"dataframe 3 has \" + str(rowdf3) + \" rows and \" + str(coldf3) + \" columns\")"
   ]
  },
  {
   "cell_type": "markdown",
   "metadata": {},
   "source": [
    "## Standardize header names.\n"
   ]
  },
  {
   "cell_type": "code",
   "execution_count": 33,
   "metadata": {},
   "outputs": [],
   "source": [
    "#lowercase the names of the columns df1\n",
    "df1.columns= df1.columns.str.lower()\n",
    "#df1.columns"
   ]
  },
  {
   "cell_type": "code",
   "execution_count": 34,
   "metadata": {},
   "outputs": [],
   "source": [
    "#lowercase the names of the columns df2\n",
    "df2.columns= df2.columns.str.lower()\n",
    "#df2.columns"
   ]
  },
  {
   "cell_type": "code",
   "execution_count": 35,
   "metadata": {},
   "outputs": [],
   "source": [
    "#lowercase the names of the columns df3\n",
    "df3.columns= df3.columns.str.lower()\n",
    "#df3.columns"
   ]
  },
  {
   "cell_type": "code",
   "execution_count": 36,
   "metadata": {},
   "outputs": [
    {
     "name": "stdout",
     "output_type": "stream",
     "text": [
      "<class 'pandas.core.frame.DataFrame'>\n",
      "RangeIndex: 7070 entries, 0 to 7069\n",
      "Data columns (total 11 columns):\n",
      " #   Column                     Non-Null Count  Dtype  \n",
      "---  ------                     --------------  -----  \n",
      " 0   customer                   7070 non-null   object \n",
      " 1   st                         7070 non-null   object \n",
      " 2   customer lifetime value    7070 non-null   float64\n",
      " 3   education                  7070 non-null   object \n",
      " 4   gender                     7070 non-null   object \n",
      " 5   income                     7070 non-null   int64  \n",
      " 6   monthly premium auto       7070 non-null   int64  \n",
      " 7   number of open complaints  7070 non-null   int64  \n",
      " 8   policy type                7070 non-null   object \n",
      " 9   total claim amount         7070 non-null   float64\n",
      " 10  vehicle class              7070 non-null   object \n",
      "dtypes: float64(2), int64(3), object(6)\n",
      "memory usage: 607.7+ KB\n"
     ]
    }
   ],
   "source": [
    "df3.rename(columns={\"state\": \"st\"}, inplace = True)\n",
    "df3.info()"
   ]
  },
  {
   "cell_type": "markdown",
   "metadata": {},
   "source": [
    "## Rearrange the columns in the dataframe as necessary: rearranging the columns following dataframe 1"
   ]
  },
  {
   "cell_type": "code",
   "execution_count": 37,
   "metadata": {},
   "outputs": [
    {
     "data": {
      "text/plain": [
       "['customer',\n",
       " 'st',\n",
       " 'gender',\n",
       " 'education',\n",
       " 'customer lifetime value',\n",
       " 'income',\n",
       " 'monthly premium auto',\n",
       " 'number of open complaints',\n",
       " 'policy type',\n",
       " 'vehicle class',\n",
       " 'total claim amount']"
      ]
     },
     "execution_count": 37,
     "metadata": {},
     "output_type": "execute_result"
    }
   ],
   "source": [
    "#Rearrange the columns in the dataframe as necessary: rearranging the columns following dataframe 1\n",
    "df1_col_lst = df1.columns.to_list()\n",
    "df1_col_lst\n"
   ]
  },
  {
   "cell_type": "code",
   "execution_count": 38,
   "metadata": {},
   "outputs": [],
   "source": [
    "df2 = df2.reindex(columns = df1_col_lst)"
   ]
  },
  {
   "cell_type": "code",
   "execution_count": 39,
   "metadata": {},
   "outputs": [],
   "source": [
    "df3 = df3.reindex(columns = df1_col_lst)"
   ]
  },
  {
   "cell_type": "markdown",
   "metadata": {},
   "source": [
    "## Concatenate the three dataframes"
   ]
  },
  {
   "cell_type": "code",
   "execution_count": 41,
   "metadata": {},
   "outputs": [],
   "source": [
    "#Concatenate the three dataframes \n",
    "df_all = pd.concat([df1, df2,df3], axis=0, ignore_index=True)"
   ]
  },
  {
   "cell_type": "markdown",
   "metadata": {},
   "source": [
    "## Which columns are numerical?"
   ]
  },
  {
   "cell_type": "code",
   "execution_count": 42,
   "metadata": {},
   "outputs": [
    {
     "name": "stdout",
     "output_type": "stream",
     "text": [
      "<class 'pandas.core.frame.DataFrame'>\n",
      "RangeIndex: 12074 entries, 0 to 12073\n",
      "Data columns (total 11 columns):\n",
      " #   Column                     Non-Null Count  Dtype  \n",
      "---  ------                     --------------  -----  \n",
      " 0   customer                   9137 non-null   object \n",
      " 1   st                         9137 non-null   object \n",
      " 2   gender                     9015 non-null   object \n",
      " 3   education                  9137 non-null   object \n",
      " 4   customer lifetime value    9130 non-null   object \n",
      " 5   income                     9137 non-null   float64\n",
      " 6   monthly premium auto       9137 non-null   float64\n",
      " 7   number of open complaints  9137 non-null   object \n",
      " 8   policy type                9137 non-null   object \n",
      " 9   vehicle class              9137 non-null   object \n",
      " 10  total claim amount         9137 non-null   float64\n",
      "dtypes: float64(3), object(8)\n",
      "memory usage: 1.0+ MB\n"
     ]
    }
   ],
   "source": [
    "#Which columns are numerical?\n",
    "df_all.info()\n",
    "#according to data type, Income, monthly premium auto and total claim amount are numerical.\n",
    "# BUT observing the variables it seems that customer lifetime value and number of open complaints have been stored as objects, but are numerical as well.\n",
    "#all the other variables are categorical "
   ]
  },
  {
   "cell_type": "markdown",
   "metadata": {},
   "source": [
    "## Understand the meaning of all columns\n",
    "- customer: license plate\n",
    "- st: state of license plate\n",
    "- gender: gender\n",
    "- education: highest education degree\n",
    "- customer life time value: value in money of the customer? as in how much money the insurance would pay if the customer dies?\n",
    "- income: yearly income\n",
    "- monthly premium auto: amount of money the customer pays each month\n",
    "- number of open complaints: \n",
    "- policy type: whether the auto is self-owned, from the company, \"special Auto\" = other cases\n",
    "- vehicle class: category to which the vehicle belongs to\n",
    "- total claim amount: maximum amount of money the customer can receive from the insurance upon accident"
   ]
  },
  {
   "cell_type": "markdown",
   "metadata": {},
   "source": [
    "## Perform the data cleaning operations mentioned so far in class"
   ]
  },
  {
   "cell_type": "code",
   "execution_count": 43,
   "metadata": {},
   "outputs": [
    {
     "data": {
      "text/html": [
       "<div>\n",
       "<style scoped>\n",
       "    .dataframe tbody tr th:only-of-type {\n",
       "        vertical-align: middle;\n",
       "    }\n",
       "\n",
       "    .dataframe tbody tr th {\n",
       "        vertical-align: top;\n",
       "    }\n",
       "\n",
       "    .dataframe thead th {\n",
       "        text-align: right;\n",
       "    }\n",
       "</style>\n",
       "<table border=\"1\" class=\"dataframe\">\n",
       "  <thead>\n",
       "    <tr style=\"text-align: right;\">\n",
       "      <th></th>\n",
       "      <th>customer</th>\n",
       "      <th>st</th>\n",
       "      <th>gender</th>\n",
       "      <th>customer lifetime value</th>\n",
       "      <th>income</th>\n",
       "      <th>monthly premium auto</th>\n",
       "      <th>policy type</th>\n",
       "      <th>vehicle class</th>\n",
       "      <th>total claim amount</th>\n",
       "    </tr>\n",
       "  </thead>\n",
       "  <tbody>\n",
       "    <tr>\n",
       "      <th>0</th>\n",
       "      <td>RB50392</td>\n",
       "      <td>Washington</td>\n",
       "      <td>NaN</td>\n",
       "      <td>NaN</td>\n",
       "      <td>0.0</td>\n",
       "      <td>1000.0</td>\n",
       "      <td>Personal Auto</td>\n",
       "      <td>Four-Door Car</td>\n",
       "      <td>2.704934</td>\n",
       "    </tr>\n",
       "    <tr>\n",
       "      <th>1</th>\n",
       "      <td>QZ44356</td>\n",
       "      <td>Arizona</td>\n",
       "      <td>F</td>\n",
       "      <td>697953.59%</td>\n",
       "      <td>0.0</td>\n",
       "      <td>94.0</td>\n",
       "      <td>Personal Auto</td>\n",
       "      <td>Four-Door Car</td>\n",
       "      <td>1131.464935</td>\n",
       "    </tr>\n",
       "    <tr>\n",
       "      <th>2</th>\n",
       "      <td>AI49188</td>\n",
       "      <td>Nevada</td>\n",
       "      <td>F</td>\n",
       "      <td>1288743.17%</td>\n",
       "      <td>48767.0</td>\n",
       "      <td>108.0</td>\n",
       "      <td>Personal Auto</td>\n",
       "      <td>Two-Door Car</td>\n",
       "      <td>566.472247</td>\n",
       "    </tr>\n",
       "    <tr>\n",
       "      <th>3</th>\n",
       "      <td>WW63253</td>\n",
       "      <td>California</td>\n",
       "      <td>M</td>\n",
       "      <td>764586.18%</td>\n",
       "      <td>0.0</td>\n",
       "      <td>106.0</td>\n",
       "      <td>Corporate Auto</td>\n",
       "      <td>SUV</td>\n",
       "      <td>529.881344</td>\n",
       "    </tr>\n",
       "    <tr>\n",
       "      <th>4</th>\n",
       "      <td>GA49547</td>\n",
       "      <td>Washington</td>\n",
       "      <td>M</td>\n",
       "      <td>536307.65%</td>\n",
       "      <td>36357.0</td>\n",
       "      <td>68.0</td>\n",
       "      <td>Personal Auto</td>\n",
       "      <td>Four-Door Car</td>\n",
       "      <td>17.269323</td>\n",
       "    </tr>\n",
       "    <tr>\n",
       "      <th>...</th>\n",
       "      <td>...</td>\n",
       "      <td>...</td>\n",
       "      <td>...</td>\n",
       "      <td>...</td>\n",
       "      <td>...</td>\n",
       "      <td>...</td>\n",
       "      <td>...</td>\n",
       "      <td>...</td>\n",
       "      <td>...</td>\n",
       "    </tr>\n",
       "    <tr>\n",
       "      <th>12069</th>\n",
       "      <td>LA72316</td>\n",
       "      <td>California</td>\n",
       "      <td>M</td>\n",
       "      <td>23405.98798</td>\n",
       "      <td>71941.0</td>\n",
       "      <td>73.0</td>\n",
       "      <td>Personal Auto</td>\n",
       "      <td>Four-Door Car</td>\n",
       "      <td>198.234764</td>\n",
       "    </tr>\n",
       "    <tr>\n",
       "      <th>12070</th>\n",
       "      <td>PK87824</td>\n",
       "      <td>California</td>\n",
       "      <td>F</td>\n",
       "      <td>3096.511217</td>\n",
       "      <td>21604.0</td>\n",
       "      <td>79.0</td>\n",
       "      <td>Corporate Auto</td>\n",
       "      <td>Four-Door Car</td>\n",
       "      <td>379.200000</td>\n",
       "    </tr>\n",
       "    <tr>\n",
       "      <th>12071</th>\n",
       "      <td>TD14365</td>\n",
       "      <td>California</td>\n",
       "      <td>M</td>\n",
       "      <td>8163.890428</td>\n",
       "      <td>0.0</td>\n",
       "      <td>85.0</td>\n",
       "      <td>Corporate Auto</td>\n",
       "      <td>Four-Door Car</td>\n",
       "      <td>790.784983</td>\n",
       "    </tr>\n",
       "    <tr>\n",
       "      <th>12072</th>\n",
       "      <td>UP19263</td>\n",
       "      <td>California</td>\n",
       "      <td>M</td>\n",
       "      <td>7524.442436</td>\n",
       "      <td>21941.0</td>\n",
       "      <td>96.0</td>\n",
       "      <td>Personal Auto</td>\n",
       "      <td>Four-Door Car</td>\n",
       "      <td>691.200000</td>\n",
       "    </tr>\n",
       "    <tr>\n",
       "      <th>12073</th>\n",
       "      <td>Y167826</td>\n",
       "      <td>California</td>\n",
       "      <td>M</td>\n",
       "      <td>2611.836866</td>\n",
       "      <td>0.0</td>\n",
       "      <td>77.0</td>\n",
       "      <td>Corporate Auto</td>\n",
       "      <td>Two-Door Car</td>\n",
       "      <td>369.600000</td>\n",
       "    </tr>\n",
       "  </tbody>\n",
       "</table>\n",
       "<p>12074 rows × 9 columns</p>\n",
       "</div>"
      ],
      "text/plain": [
       "      customer          st gender customer lifetime value   income  \\\n",
       "0      RB50392  Washington    NaN                     NaN      0.0   \n",
       "1      QZ44356     Arizona      F              697953.59%      0.0   \n",
       "2      AI49188      Nevada      F             1288743.17%  48767.0   \n",
       "3      WW63253  California      M              764586.18%      0.0   \n",
       "4      GA49547  Washington      M              536307.65%  36357.0   \n",
       "...        ...         ...    ...                     ...      ...   \n",
       "12069  LA72316  California      M             23405.98798  71941.0   \n",
       "12070  PK87824  California      F             3096.511217  21604.0   \n",
       "12071  TD14365  California      M             8163.890428      0.0   \n",
       "12072  UP19263  California      M             7524.442436  21941.0   \n",
       "12073  Y167826  California      M             2611.836866      0.0   \n",
       "\n",
       "       monthly premium auto     policy type  vehicle class  total claim amount  \n",
       "0                    1000.0   Personal Auto  Four-Door Car            2.704934  \n",
       "1                      94.0   Personal Auto  Four-Door Car         1131.464935  \n",
       "2                     108.0   Personal Auto   Two-Door Car          566.472247  \n",
       "3                     106.0  Corporate Auto            SUV          529.881344  \n",
       "4                      68.0   Personal Auto  Four-Door Car           17.269323  \n",
       "...                     ...             ...            ...                 ...  \n",
       "12069                  73.0   Personal Auto  Four-Door Car          198.234764  \n",
       "12070                  79.0  Corporate Auto  Four-Door Car          379.200000  \n",
       "12071                  85.0  Corporate Auto  Four-Door Car          790.784983  \n",
       "12072                  96.0   Personal Auto  Four-Door Car          691.200000  \n",
       "12073                  77.0  Corporate Auto   Two-Door Car          369.600000  \n",
       "\n",
       "[12074 rows x 9 columns]"
      ]
     },
     "execution_count": 43,
     "metadata": {},
     "output_type": "execute_result"
    }
   ],
   "source": [
    "#Delete the column education and the number of open complaints from the dataframe.\n",
    "df_all = df_all.drop([\"education\",\"number of open complaints\"],axis = 1) # axis = 0 to delete rows, axis = 1 to delete columns\n",
    "df_all #to check if are dropped"
   ]
  },
  {
   "cell_type": "code",
   "execution_count": 44,
   "metadata": {},
   "outputs": [
    {
     "data": {
      "text/plain": [
       "12074"
      ]
     },
     "execution_count": 44,
     "metadata": {},
     "output_type": "execute_result"
    }
   ],
   "source": [
    "#Correct the values in the column customer lifetime value. They are given as a percent, so multiply them by 100 and change dtype to numerical type.\n",
    "#Since some of them contains the symbol \"%\", find all the rows that contains this symbol and drop it\n",
    "\n",
    "new_customer_lifetime_values = []\n",
    "\n",
    "for i in range (len(df_all[\"customer lifetime value\"])):\n",
    "    entry = df_all[\"customer lifetime value\"][i]\n",
    "    if type (df_all[\"customer lifetime value\"][i]) == str:\n",
    "        if entry[-1] == \"%\":\n",
    "            new_customer_lifetime_values.append(entry[:-1])\n",
    "        else:\n",
    "            new_customer_lifetime_values.append(entry)\n",
    "    else:\n",
    "        new_customer_lifetime_values.append(entry)\n",
    "\n",
    "len(new_customer_lifetime_values) #check if there are the exact number of entries"
   ]
  },
  {
   "cell_type": "code",
   "execution_count": 45,
   "metadata": {},
   "outputs": [],
   "source": [
    "#convert all the entries of the new_customer_lifetime_values in float and multiply them by 100 \n",
    "new_customer_lifetime_values_float =[]\n",
    "for i in range(len(new_customer_lifetime_values)):\n",
    "    entry = new_customer_lifetime_values[i]\n",
    "    if type(new_customer_lifetime_values[i]) == str:\n",
    "        entry = float(entry)\n",
    "        new_customer_lifetime_values_float.append(entry*100)\n",
    "    else:\n",
    "        new_customer_lifetime_values_float.append(entry*100)"
   ]
  },
  {
   "cell_type": "code",
   "execution_count": 46,
   "metadata": {},
   "outputs": [],
   "source": [
    "#add the new variable to the dataframe\n",
    "df_all.insert(coldf1-2,'new_customer_lifetime_values', new_customer_lifetime_values_float)"
   ]
  },
  {
   "cell_type": "code",
   "execution_count": 47,
   "metadata": {
    "scrolled": true
   },
   "outputs": [],
   "source": [
    "#Check for duplicate rows in the data and remove if any.\n",
    "#first remove all the entries with nan as an ID customer\n",
    "df_all = df_all.dropna(subset = [\"customer\"])"
   ]
  },
  {
   "cell_type": "code",
   "execution_count": 48,
   "metadata": {},
   "outputs": [
    {
     "data": {
      "text/html": [
       "<div>\n",
       "<style scoped>\n",
       "    .dataframe tbody tr th:only-of-type {\n",
       "        vertical-align: middle;\n",
       "    }\n",
       "\n",
       "    .dataframe tbody tr th {\n",
       "        vertical-align: top;\n",
       "    }\n",
       "\n",
       "    .dataframe thead th {\n",
       "        text-align: right;\n",
       "    }\n",
       "</style>\n",
       "<table border=\"1\" class=\"dataframe\">\n",
       "  <thead>\n",
       "    <tr style=\"text-align: right;\">\n",
       "      <th></th>\n",
       "      <th>customer</th>\n",
       "      <th>st</th>\n",
       "      <th>gender</th>\n",
       "      <th>customer lifetime value</th>\n",
       "      <th>income</th>\n",
       "      <th>monthly premium auto</th>\n",
       "      <th>policy type</th>\n",
       "      <th>vehicle class</th>\n",
       "      <th>total claim amount</th>\n",
       "      <th>new_customer_lifetime_values</th>\n",
       "    </tr>\n",
       "  </thead>\n",
       "  <tbody>\n",
       "  </tbody>\n",
       "</table>\n",
       "</div>"
      ],
      "text/plain": [
       "Empty DataFrame\n",
       "Columns: [customer, st, gender, customer lifetime value, income, monthly premium auto, policy type, vehicle class, total claim amount, new_customer_lifetime_values]\n",
       "Index: []"
      ]
     },
     "execution_count": 48,
     "metadata": {},
     "output_type": "execute_result"
    }
   ],
   "source": [
    "df_all[df_all[\"customer\"].isna() == True] #check if the dropna worked"
   ]
  },
  {
   "cell_type": "code",
   "execution_count": 49,
   "metadata": {},
   "outputs": [
    {
     "data": {
      "text/plain": [
       "3"
      ]
     },
     "execution_count": 49,
     "metadata": {},
     "output_type": "execute_result"
    }
   ],
   "source": [
    "#Check for (invalid) duplicates in the dataframe.\n",
    "df_all.duplicated().sum()"
   ]
  },
  {
   "cell_type": "code",
   "execution_count": 55,
   "metadata": {},
   "outputs": [
    {
     "data": {
      "text/plain": [
       "(9134, 10)"
      ]
     },
     "execution_count": 55,
     "metadata": {},
     "output_type": "execute_result"
    }
   ],
   "source": [
    "#drop the duplicates\n",
    "df_all = df_all.drop_duplicates()\n",
    "df_all.shape"
   ]
  },
  {
   "cell_type": "code",
   "execution_count": 54,
   "metadata": {},
   "outputs": [
    {
     "data": {
      "text/plain": [
       "0"
      ]
     },
     "execution_count": 54,
     "metadata": {},
     "output_type": "execute_result"
    }
   ],
   "source": [
    "df_all.duplicated().sum()"
   ]
  },
  {
   "cell_type": "code",
   "execution_count": 52,
   "metadata": {},
   "outputs": [],
   "source": [
    "#Filter out the data for customers who have an income of 0 or less.\n",
    "final_df_all = df_all.query('income > 0')"
   ]
  },
  {
   "cell_type": "code",
   "execution_count": 53,
   "metadata": {},
   "outputs": [
    {
     "data": {
      "text/html": [
       "<div>\n",
       "<style scoped>\n",
       "    .dataframe tbody tr th:only-of-type {\n",
       "        vertical-align: middle;\n",
       "    }\n",
       "\n",
       "    .dataframe tbody tr th {\n",
       "        vertical-align: top;\n",
       "    }\n",
       "\n",
       "    .dataframe thead th {\n",
       "        text-align: right;\n",
       "    }\n",
       "</style>\n",
       "<table border=\"1\" class=\"dataframe\">\n",
       "  <thead>\n",
       "    <tr style=\"text-align: right;\">\n",
       "      <th></th>\n",
       "      <th>customer</th>\n",
       "      <th>st</th>\n",
       "      <th>gender</th>\n",
       "      <th>customer lifetime value</th>\n",
       "      <th>income</th>\n",
       "      <th>monthly premium auto</th>\n",
       "      <th>policy type</th>\n",
       "      <th>vehicle class</th>\n",
       "      <th>total claim amount</th>\n",
       "      <th>new_customer_lifetime_values</th>\n",
       "    </tr>\n",
       "  </thead>\n",
       "  <tbody>\n",
       "    <tr>\n",
       "      <th>2</th>\n",
       "      <td>AI49188</td>\n",
       "      <td>Nevada</td>\n",
       "      <td>F</td>\n",
       "      <td>1288743.17%</td>\n",
       "      <td>48767.0</td>\n",
       "      <td>108.0</td>\n",
       "      <td>Personal Auto</td>\n",
       "      <td>Two-Door Car</td>\n",
       "      <td>566.472247</td>\n",
       "      <td>1.288743e+08</td>\n",
       "    </tr>\n",
       "    <tr>\n",
       "      <th>4</th>\n",
       "      <td>GA49547</td>\n",
       "      <td>Washington</td>\n",
       "      <td>M</td>\n",
       "      <td>536307.65%</td>\n",
       "      <td>36357.0</td>\n",
       "      <td>68.0</td>\n",
       "      <td>Personal Auto</td>\n",
       "      <td>Four-Door Car</td>\n",
       "      <td>17.269323</td>\n",
       "      <td>5.363076e+07</td>\n",
       "    </tr>\n",
       "    <tr>\n",
       "      <th>5</th>\n",
       "      <td>OC83172</td>\n",
       "      <td>Oregon</td>\n",
       "      <td>F</td>\n",
       "      <td>825629.78%</td>\n",
       "      <td>62902.0</td>\n",
       "      <td>69.0</td>\n",
       "      <td>Personal Auto</td>\n",
       "      <td>Two-Door Car</td>\n",
       "      <td>159.383042</td>\n",
       "      <td>8.256298e+07</td>\n",
       "    </tr>\n",
       "    <tr>\n",
       "      <th>6</th>\n",
       "      <td>XZ87318</td>\n",
       "      <td>Oregon</td>\n",
       "      <td>F</td>\n",
       "      <td>538089.86%</td>\n",
       "      <td>55350.0</td>\n",
       "      <td>67.0</td>\n",
       "      <td>Corporate Auto</td>\n",
       "      <td>Four-Door Car</td>\n",
       "      <td>321.600000</td>\n",
       "      <td>5.380899e+07</td>\n",
       "    </tr>\n",
       "    <tr>\n",
       "      <th>8</th>\n",
       "      <td>DY87989</td>\n",
       "      <td>Oregon</td>\n",
       "      <td>M</td>\n",
       "      <td>2412750.40%</td>\n",
       "      <td>14072.0</td>\n",
       "      <td>71.0</td>\n",
       "      <td>Corporate Auto</td>\n",
       "      <td>Four-Door Car</td>\n",
       "      <td>511.200000</td>\n",
       "      <td>2.412750e+08</td>\n",
       "    </tr>\n",
       "    <tr>\n",
       "      <th>...</th>\n",
       "      <td>...</td>\n",
       "      <td>...</td>\n",
       "      <td>...</td>\n",
       "      <td>...</td>\n",
       "      <td>...</td>\n",
       "      <td>...</td>\n",
       "      <td>...</td>\n",
       "      <td>...</td>\n",
       "      <td>...</td>\n",
       "      <td>...</td>\n",
       "    </tr>\n",
       "    <tr>\n",
       "      <th>12067</th>\n",
       "      <td>TF56202</td>\n",
       "      <td>California</td>\n",
       "      <td>M</td>\n",
       "      <td>5032.165498</td>\n",
       "      <td>66367.0</td>\n",
       "      <td>64.0</td>\n",
       "      <td>Personal Auto</td>\n",
       "      <td>Two-Door Car</td>\n",
       "      <td>307.200000</td>\n",
       "      <td>5.032165e+05</td>\n",
       "    </tr>\n",
       "    <tr>\n",
       "      <th>12068</th>\n",
       "      <td>YM19146</td>\n",
       "      <td>California</td>\n",
       "      <td>F</td>\n",
       "      <td>4100.398533</td>\n",
       "      <td>47761.0</td>\n",
       "      <td>104.0</td>\n",
       "      <td>Personal Auto</td>\n",
       "      <td>Four-Door Car</td>\n",
       "      <td>541.282007</td>\n",
       "      <td>4.100399e+05</td>\n",
       "    </tr>\n",
       "    <tr>\n",
       "      <th>12069</th>\n",
       "      <td>LA72316</td>\n",
       "      <td>California</td>\n",
       "      <td>M</td>\n",
       "      <td>23405.98798</td>\n",
       "      <td>71941.0</td>\n",
       "      <td>73.0</td>\n",
       "      <td>Personal Auto</td>\n",
       "      <td>Four-Door Car</td>\n",
       "      <td>198.234764</td>\n",
       "      <td>2.340599e+06</td>\n",
       "    </tr>\n",
       "    <tr>\n",
       "      <th>12070</th>\n",
       "      <td>PK87824</td>\n",
       "      <td>California</td>\n",
       "      <td>F</td>\n",
       "      <td>3096.511217</td>\n",
       "      <td>21604.0</td>\n",
       "      <td>79.0</td>\n",
       "      <td>Corporate Auto</td>\n",
       "      <td>Four-Door Car</td>\n",
       "      <td>379.200000</td>\n",
       "      <td>3.096511e+05</td>\n",
       "    </tr>\n",
       "    <tr>\n",
       "      <th>12072</th>\n",
       "      <td>UP19263</td>\n",
       "      <td>California</td>\n",
       "      <td>M</td>\n",
       "      <td>7524.442436</td>\n",
       "      <td>21941.0</td>\n",
       "      <td>96.0</td>\n",
       "      <td>Personal Auto</td>\n",
       "      <td>Four-Door Car</td>\n",
       "      <td>691.200000</td>\n",
       "      <td>7.524442e+05</td>\n",
       "    </tr>\n",
       "  </tbody>\n",
       "</table>\n",
       "<p>6840 rows × 10 columns</p>\n",
       "</div>"
      ],
      "text/plain": [
       "      customer          st gender customer lifetime value   income  \\\n",
       "2      AI49188      Nevada      F             1288743.17%  48767.0   \n",
       "4      GA49547  Washington      M              536307.65%  36357.0   \n",
       "5      OC83172      Oregon      F              825629.78%  62902.0   \n",
       "6      XZ87318      Oregon      F              538089.86%  55350.0   \n",
       "8      DY87989      Oregon      M             2412750.40%  14072.0   \n",
       "...        ...         ...    ...                     ...      ...   \n",
       "12067  TF56202  California      M             5032.165498  66367.0   \n",
       "12068  YM19146  California      F             4100.398533  47761.0   \n",
       "12069  LA72316  California      M             23405.98798  71941.0   \n",
       "12070  PK87824  California      F             3096.511217  21604.0   \n",
       "12072  UP19263  California      M             7524.442436  21941.0   \n",
       "\n",
       "       monthly premium auto     policy type  vehicle class  \\\n",
       "2                     108.0   Personal Auto   Two-Door Car   \n",
       "4                      68.0   Personal Auto  Four-Door Car   \n",
       "5                      69.0   Personal Auto   Two-Door Car   \n",
       "6                      67.0  Corporate Auto  Four-Door Car   \n",
       "8                      71.0  Corporate Auto  Four-Door Car   \n",
       "...                     ...             ...            ...   \n",
       "12067                  64.0   Personal Auto   Two-Door Car   \n",
       "12068                 104.0   Personal Auto  Four-Door Car   \n",
       "12069                  73.0   Personal Auto  Four-Door Car   \n",
       "12070                  79.0  Corporate Auto  Four-Door Car   \n",
       "12072                  96.0   Personal Auto  Four-Door Car   \n",
       "\n",
       "       total claim amount  new_customer_lifetime_values  \n",
       "2              566.472247                  1.288743e+08  \n",
       "4               17.269323                  5.363076e+07  \n",
       "5              159.383042                  8.256298e+07  \n",
       "6              321.600000                  5.380899e+07  \n",
       "8              511.200000                  2.412750e+08  \n",
       "...                   ...                           ...  \n",
       "12067          307.200000                  5.032165e+05  \n",
       "12068          541.282007                  4.100399e+05  \n",
       "12069          198.234764                  2.340599e+06  \n",
       "12070          379.200000                  3.096511e+05  \n",
       "12072          691.200000                  7.524442e+05  \n",
       "\n",
       "[6840 rows x 10 columns]"
      ]
     },
     "execution_count": 53,
     "metadata": {},
     "output_type": "execute_result"
    }
   ],
   "source": [
    "final_df_all"
   ]
  }
 ],
 "metadata": {
  "kernelspec": {
   "display_name": "Python 3",
   "language": "python",
   "name": "python3"
  },
  "language_info": {
   "codemirror_mode": {
    "name": "ipython",
    "version": 3
   },
   "file_extension": ".py",
   "mimetype": "text/x-python",
   "name": "python",
   "nbconvert_exporter": "python",
   "pygments_lexer": "ipython3",
   "version": "3.8.5"
  }
 },
 "nbformat": 4,
 "nbformat_minor": 4
}
