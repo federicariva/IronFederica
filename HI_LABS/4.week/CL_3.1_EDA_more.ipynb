{
 "cells": [
  {
   "cell_type": "code",
   "execution_count": 30,
   "metadata": {},
   "outputs": [
    {
     "ename": "ModuleNotFoundError",
     "evalue": "No module named 'panda_profiling'",
     "output_type": "error",
     "traceback": [
      "\u001b[1;31m---------------------------------------------------------------------------\u001b[0m",
      "\u001b[1;31mModuleNotFoundError\u001b[0m                       Traceback (most recent call last)",
      "\u001b[1;32m<ipython-input-30-91e2676f59a9>\u001b[0m in \u001b[0;36m<module>\u001b[1;34m\u001b[0m\n\u001b[1;32m----> 1\u001b[1;33m \u001b[1;32mimport\u001b[0m \u001b[0mpanda_profiling\u001b[0m\u001b[1;33m\u001b[0m\u001b[1;33m\u001b[0m\u001b[0m\n\u001b[0m",
      "\u001b[1;31mModuleNotFoundError\u001b[0m: No module named 'panda_profiling'"
     ]
    }
   ],
   "source": [
    "import panda_profiling "
   ]
  },
  {
   "cell_type": "code",
   "execution_count": 6,
   "metadata": {},
   "outputs": [],
   "source": [
    "def base_packages():\n",
    "    import pandas as pd\n",
    "    import numpy as np\n",
    "    import seaborn as sns\n",
    "    import matplotlib.pyplot as plt\n",
    "    import datetime as dt\n",
    "    "
   ]
  },
  {
   "cell_type": "markdown",
   "metadata": {},
   "source": [
    "# 2 Get Unit 4 data in as 'data'"
   ]
  },
  {
   "cell_type": "code",
   "execution_count": 2,
   "metadata": {},
   "outputs": [],
   "source": [
    "import pandas as pd\n",
    "import numpy as np\n",
    "import seaborn as sns\n",
    "import matplotlib.pyplot as plt\n",
    "import datetime as dt"
   ]
  },
  {
   "cell_type": "code",
   "execution_count": 8,
   "metadata": {},
   "outputs": [],
   "source": [
    "data = pd.read_csv('unit4.csv')"
   ]
  },
  {
   "cell_type": "code",
   "execution_count": 10,
   "metadata": {},
   "outputs": [
    {
     "data": {
      "text/plain": [
       "Index(['STATE', 'PVASTATE', 'DOB', 'MDMAUD', 'RECP3', 'GENDER', 'DOMAIN',\n",
       "       'INCOME', 'HOMEOWNR', 'HV1', 'HV2', 'HV3', 'HV4', 'IC1', 'IC2', 'IC3',\n",
       "       'IC4', 'IC5', 'VETERANS', 'NUMPROM', 'CARDPROM', 'CARDPM12', 'NUMPRM12',\n",
       "       'MAXADATE', 'RFA_2', 'NGIFTALL', 'TIMELAG', 'AVGGIFT'],\n",
       "      dtype='object')"
      ]
     },
     "execution_count": 10,
     "metadata": {},
     "output_type": "execute_result"
    }
   ],
   "source": [
    "data.columns"
   ]
  },
  {
   "cell_type": "code",
   "execution_count": 27,
   "metadata": {
    "collapsed": true
   },
   "outputs": [
    {
     "name": "stdout",
     "output_type": "stream",
     "text": [
      "<class 'pandas.core.frame.DataFrame'>\n",
      "RangeIndex: 90568 entries, 0 to 90567\n",
      "Data columns (total 28 columns):\n",
      " #   Column    Non-Null Count  Dtype  \n",
      "---  ------    --------------  -----  \n",
      " 0   STATE     90568 non-null  object \n",
      " 1   PVASTATE  90568 non-null  object \n",
      " 2   DOB       90568 non-null  int64  \n",
      " 3   MDMAUD    90568 non-null  object \n",
      " 4   RECP3     90568 non-null  object \n",
      " 5   GENDER    90568 non-null  object \n",
      " 6   DOMAIN    90568 non-null  object \n",
      " 7   INCOME    70386 non-null  float64\n",
      " 8   HOMEOWNR  90568 non-null  object \n",
      " 9   HV1       90568 non-null  int64  \n",
      " 10  HV2       90568 non-null  int64  \n",
      " 11  HV3       90568 non-null  int64  \n",
      " 12  HV4       90568 non-null  int64  \n",
      " 13  IC1       90568 non-null  int64  \n",
      " 14  IC2       90568 non-null  int64  \n",
      " 15  IC3       90568 non-null  int64  \n",
      " 16  IC4       90568 non-null  int64  \n",
      " 17  IC5       90568 non-null  int64  \n",
      " 18  VETERANS  90568 non-null  object \n",
      " 19  NUMPROM   90568 non-null  int64  \n",
      " 20  CARDPROM  90568 non-null  int64  \n",
      " 21  CARDPM12  90568 non-null  int64  \n",
      " 22  NUMPRM12  90568 non-null  int64  \n",
      " 23  MAXADATE  90568 non-null  int64  \n",
      " 24  RFA_2     90568 non-null  object \n",
      " 25  NGIFTALL  90568 non-null  int64  \n",
      " 26  TIMELAG   80916 non-null  float64\n",
      " 27  AVGGIFT   90568 non-null  float64\n",
      "dtypes: float64(3), int64(16), object(9)\n",
      "memory usage: 19.3+ MB\n"
     ]
    }
   ],
   "source": [
    "data.info()"
   ]
  },
  {
   "cell_type": "markdown",
   "metadata": {},
   "source": [
    "## 2.1 split the data into numericals and categoricals for EDA¶"
   ]
  },
  {
   "cell_type": "code",
   "execution_count": 28,
   "metadata": {},
   "outputs": [],
   "source": [
    "d_num = data.select_dtypes(np.number)\n",
    "d_cata=data.select_dtypes(object)"
   ]
  },
  {
   "cell_type": "markdown",
   "metadata": {},
   "source": [
    "### 2.1.1 Data quality check"
   ]
  },
  {
   "cell_type": "code",
   "execution_count": 14,
   "metadata": {},
   "outputs": [
    {
     "data": {
      "text/plain": [
       "1"
      ]
     },
     "execution_count": 14,
     "metadata": {},
     "output_type": "execute_result"
    }
   ],
   "source": [
    "data.duplicated().sum() #to count the duplicates"
   ]
  },
  {
   "cell_type": "code",
   "execution_count": 16,
   "metadata": {},
   "outputs": [
    {
     "data": {
      "text/html": [
       "<div>\n",
       "<style scoped>\n",
       "    .dataframe tbody tr th:only-of-type {\n",
       "        vertical-align: middle;\n",
       "    }\n",
       "\n",
       "    .dataframe tbody tr th {\n",
       "        vertical-align: top;\n",
       "    }\n",
       "\n",
       "    .dataframe thead th {\n",
       "        text-align: right;\n",
       "    }\n",
       "</style>\n",
       "<table border=\"1\" class=\"dataframe\">\n",
       "  <thead>\n",
       "    <tr style=\"text-align: right;\">\n",
       "      <th></th>\n",
       "      <th>STATE</th>\n",
       "      <th>PVASTATE</th>\n",
       "      <th>DOB</th>\n",
       "      <th>MDMAUD</th>\n",
       "      <th>RECP3</th>\n",
       "      <th>GENDER</th>\n",
       "      <th>DOMAIN</th>\n",
       "      <th>INCOME</th>\n",
       "      <th>HOMEOWNR</th>\n",
       "      <th>HV1</th>\n",
       "      <th>...</th>\n",
       "      <th>VETERANS</th>\n",
       "      <th>NUMPROM</th>\n",
       "      <th>CARDPROM</th>\n",
       "      <th>CARDPM12</th>\n",
       "      <th>NUMPRM12</th>\n",
       "      <th>MAXADATE</th>\n",
       "      <th>RFA_2</th>\n",
       "      <th>NGIFTALL</th>\n",
       "      <th>TIMELAG</th>\n",
       "      <th>AVGGIFT</th>\n",
       "    </tr>\n",
       "  </thead>\n",
       "  <tbody>\n",
       "    <tr>\n",
       "      <th>36109</th>\n",
       "      <td>CA</td>\n",
       "      <td></td>\n",
       "      <td>4801</td>\n",
       "      <td>XXXX</td>\n",
       "      <td></td>\n",
       "      <td>F</td>\n",
       "      <td>U1</td>\n",
       "      <td>NaN</td>\n",
       "      <td></td>\n",
       "      <td>3365</td>\n",
       "      <td>...</td>\n",
       "      <td></td>\n",
       "      <td>13</td>\n",
       "      <td>5</td>\n",
       "      <td>3</td>\n",
       "      <td>8</td>\n",
       "      <td>9702</td>\n",
       "      <td>L1F</td>\n",
       "      <td>1</td>\n",
       "      <td>NaN</td>\n",
       "      <td>15.0</td>\n",
       "    </tr>\n",
       "    <tr>\n",
       "      <th>49464</th>\n",
       "      <td>CA</td>\n",
       "      <td></td>\n",
       "      <td>4801</td>\n",
       "      <td>XXXX</td>\n",
       "      <td></td>\n",
       "      <td>F</td>\n",
       "      <td>U1</td>\n",
       "      <td>NaN</td>\n",
       "      <td></td>\n",
       "      <td>3365</td>\n",
       "      <td>...</td>\n",
       "      <td></td>\n",
       "      <td>13</td>\n",
       "      <td>5</td>\n",
       "      <td>3</td>\n",
       "      <td>8</td>\n",
       "      <td>9702</td>\n",
       "      <td>L1F</td>\n",
       "      <td>1</td>\n",
       "      <td>NaN</td>\n",
       "      <td>15.0</td>\n",
       "    </tr>\n",
       "  </tbody>\n",
       "</table>\n",
       "<p>2 rows × 28 columns</p>\n",
       "</div>"
      ],
      "text/plain": [
       "      STATE PVASTATE   DOB MDMAUD RECP3 GENDER DOMAIN  INCOME HOMEOWNR   HV1  \\\n",
       "36109    CA           4801   XXXX            F     U1     NaN           3365   \n",
       "49464    CA           4801   XXXX            F     U1     NaN           3365   \n",
       "\n",
       "       ...  VETERANS  NUMPROM  CARDPROM  CARDPM12  NUMPRM12  MAXADATE  RFA_2  \\\n",
       "36109  ...                 13         5         3         8      9702    L1F   \n",
       "49464  ...                 13         5         3         8      9702    L1F   \n",
       "\n",
       "       NGIFTALL TIMELAG  AVGGIFT  \n",
       "36109         1     NaN     15.0  \n",
       "49464         1     NaN     15.0  \n",
       "\n",
       "[2 rows x 28 columns]"
      ]
     },
     "execution_count": 16,
     "metadata": {},
     "output_type": "execute_result"
    }
   ],
   "source": [
    "data[data.duplicated(keep=False)] #to see the duplicates"
   ]
  },
  {
   "cell_type": "code",
   "execution_count": 18,
   "metadata": {},
   "outputs": [],
   "source": [
    "data = data.drop_duplicates() #drop duplicates rows\n",
    "# or to substitute the original dataframe without the duplicates you can write data.drop_duplicates(inplace=True) "
   ]
  },
  {
   "cell_type": "code",
   "execution_count": null,
   "metadata": {},
   "outputs": [],
   "source": [
    "#drop nulls or any columns of no interest"
   ]
  },
  {
   "cell_type": "markdown",
   "metadata": {},
   "source": [
    "### 2.1.2 after removing reset index¶"
   ]
  },
  {
   "cell_type": "code",
   "execution_count": null,
   "metadata": {},
   "outputs": [],
   "source": [
    "data.reset_index(drop=True, inplace=True)"
   ]
  },
  {
   "cell_type": "markdown",
   "metadata": {},
   "source": [
    "### 2.1.3 see all columns, EDA numericals and object"
   ]
  },
  {
   "cell_type": "code",
   "execution_count": 20,
   "metadata": {},
   "outputs": [],
   "source": [
    "pd.set_option('display.max_columns', None)"
   ]
  },
  {
   "cell_type": "code",
   "execution_count": 21,
   "metadata": {},
   "outputs": [
    {
     "data": {
      "text/html": [
       "<div>\n",
       "<style scoped>\n",
       "    .dataframe tbody tr th:only-of-type {\n",
       "        vertical-align: middle;\n",
       "    }\n",
       "\n",
       "    .dataframe tbody tr th {\n",
       "        vertical-align: top;\n",
       "    }\n",
       "\n",
       "    .dataframe thead th {\n",
       "        text-align: right;\n",
       "    }\n",
       "</style>\n",
       "<table border=\"1\" class=\"dataframe\">\n",
       "  <thead>\n",
       "    <tr style=\"text-align: right;\">\n",
       "      <th></th>\n",
       "      <th>STATE</th>\n",
       "      <th>PVASTATE</th>\n",
       "      <th>DOB</th>\n",
       "      <th>MDMAUD</th>\n",
       "      <th>RECP3</th>\n",
       "      <th>GENDER</th>\n",
       "      <th>DOMAIN</th>\n",
       "      <th>INCOME</th>\n",
       "      <th>HOMEOWNR</th>\n",
       "      <th>HV1</th>\n",
       "      <th>HV2</th>\n",
       "      <th>HV3</th>\n",
       "      <th>HV4</th>\n",
       "      <th>IC1</th>\n",
       "      <th>IC2</th>\n",
       "      <th>IC3</th>\n",
       "      <th>IC4</th>\n",
       "      <th>IC5</th>\n",
       "      <th>VETERANS</th>\n",
       "      <th>NUMPROM</th>\n",
       "      <th>CARDPROM</th>\n",
       "      <th>CARDPM12</th>\n",
       "      <th>NUMPRM12</th>\n",
       "      <th>MAXADATE</th>\n",
       "      <th>RFA_2</th>\n",
       "      <th>NGIFTALL</th>\n",
       "      <th>TIMELAG</th>\n",
       "      <th>AVGGIFT</th>\n",
       "    </tr>\n",
       "  </thead>\n",
       "  <tbody>\n",
       "    <tr>\n",
       "      <th>0</th>\n",
       "      <td>IL</td>\n",
       "      <td></td>\n",
       "      <td>3712</td>\n",
       "      <td>XXXX</td>\n",
       "      <td></td>\n",
       "      <td>F</td>\n",
       "      <td>T2</td>\n",
       "      <td>NaN</td>\n",
       "      <td></td>\n",
       "      <td>479</td>\n",
       "      <td>635</td>\n",
       "      <td>3</td>\n",
       "      <td>2</td>\n",
       "      <td>307</td>\n",
       "      <td>318</td>\n",
       "      <td>349</td>\n",
       "      <td>378</td>\n",
       "      <td>12883</td>\n",
       "      <td></td>\n",
       "      <td>74</td>\n",
       "      <td>27</td>\n",
       "      <td>6</td>\n",
       "      <td>14</td>\n",
       "      <td>9702</td>\n",
       "      <td>L4E</td>\n",
       "      <td>31</td>\n",
       "      <td>4.0</td>\n",
       "      <td>7.741935</td>\n",
       "    </tr>\n",
       "    <tr>\n",
       "      <th>1</th>\n",
       "      <td>CA</td>\n",
       "      <td></td>\n",
       "      <td>5202</td>\n",
       "      <td>XXXX</td>\n",
       "      <td></td>\n",
       "      <td>M</td>\n",
       "      <td>S1</td>\n",
       "      <td>6.0</td>\n",
       "      <td>H</td>\n",
       "      <td>5468</td>\n",
       "      <td>5218</td>\n",
       "      <td>12</td>\n",
       "      <td>10</td>\n",
       "      <td>1088</td>\n",
       "      <td>1096</td>\n",
       "      <td>1026</td>\n",
       "      <td>1037</td>\n",
       "      <td>36175</td>\n",
       "      <td></td>\n",
       "      <td>32</td>\n",
       "      <td>12</td>\n",
       "      <td>6</td>\n",
       "      <td>13</td>\n",
       "      <td>9702</td>\n",
       "      <td>L2G</td>\n",
       "      <td>3</td>\n",
       "      <td>18.0</td>\n",
       "      <td>15.666667</td>\n",
       "    </tr>\n",
       "    <tr>\n",
       "      <th>2</th>\n",
       "      <td>NC</td>\n",
       "      <td></td>\n",
       "      <td>0</td>\n",
       "      <td>XXXX</td>\n",
       "      <td></td>\n",
       "      <td>M</td>\n",
       "      <td>R2</td>\n",
       "      <td>3.0</td>\n",
       "      <td>U</td>\n",
       "      <td>497</td>\n",
       "      <td>546</td>\n",
       "      <td>2</td>\n",
       "      <td>1</td>\n",
       "      <td>251</td>\n",
       "      <td>292</td>\n",
       "      <td>292</td>\n",
       "      <td>340</td>\n",
       "      <td>11576</td>\n",
       "      <td></td>\n",
       "      <td>63</td>\n",
       "      <td>26</td>\n",
       "      <td>6</td>\n",
       "      <td>14</td>\n",
       "      <td>9702</td>\n",
       "      <td>L4E</td>\n",
       "      <td>27</td>\n",
       "      <td>12.0</td>\n",
       "      <td>7.481481</td>\n",
       "    </tr>\n",
       "    <tr>\n",
       "      <th>3</th>\n",
       "      <td>CA</td>\n",
       "      <td></td>\n",
       "      <td>2801</td>\n",
       "      <td>XXXX</td>\n",
       "      <td></td>\n",
       "      <td>F</td>\n",
       "      <td>R2</td>\n",
       "      <td>1.0</td>\n",
       "      <td>U</td>\n",
       "      <td>1000</td>\n",
       "      <td>1263</td>\n",
       "      <td>2</td>\n",
       "      <td>1</td>\n",
       "      <td>386</td>\n",
       "      <td>388</td>\n",
       "      <td>396</td>\n",
       "      <td>423</td>\n",
       "      <td>15130</td>\n",
       "      <td></td>\n",
       "      <td>66</td>\n",
       "      <td>27</td>\n",
       "      <td>6</td>\n",
       "      <td>14</td>\n",
       "      <td>9702</td>\n",
       "      <td>L4E</td>\n",
       "      <td>16</td>\n",
       "      <td>9.0</td>\n",
       "      <td>6.812500</td>\n",
       "    </tr>\n",
       "    <tr>\n",
       "      <th>4</th>\n",
       "      <td>FL</td>\n",
       "      <td></td>\n",
       "      <td>2001</td>\n",
       "      <td>XXXX</td>\n",
       "      <td>X</td>\n",
       "      <td>F</td>\n",
       "      <td>S2</td>\n",
       "      <td>3.0</td>\n",
       "      <td>H</td>\n",
       "      <td>576</td>\n",
       "      <td>594</td>\n",
       "      <td>4</td>\n",
       "      <td>3</td>\n",
       "      <td>240</td>\n",
       "      <td>250</td>\n",
       "      <td>293</td>\n",
       "      <td>321</td>\n",
       "      <td>9836</td>\n",
       "      <td></td>\n",
       "      <td>113</td>\n",
       "      <td>43</td>\n",
       "      <td>10</td>\n",
       "      <td>25</td>\n",
       "      <td>9702</td>\n",
       "      <td>L2F</td>\n",
       "      <td>37</td>\n",
       "      <td>14.0</td>\n",
       "      <td>6.864865</td>\n",
       "    </tr>\n",
       "  </tbody>\n",
       "</table>\n",
       "</div>"
      ],
      "text/plain": [
       "  STATE PVASTATE   DOB MDMAUD RECP3 GENDER DOMAIN  INCOME HOMEOWNR   HV1  \\\n",
       "0    IL           3712   XXXX            F     T2     NaN            479   \n",
       "1    CA           5202   XXXX            M     S1     6.0        H  5468   \n",
       "2    NC              0   XXXX            M     R2     3.0        U   497   \n",
       "3    CA           2801   XXXX            F     R2     1.0        U  1000   \n",
       "4    FL           2001   XXXX     X      F     S2     3.0        H   576   \n",
       "\n",
       "    HV2  HV3  HV4   IC1   IC2   IC3   IC4    IC5 VETERANS  NUMPROM  CARDPROM  \\\n",
       "0   635    3    2   307   318   349   378  12883                74        27   \n",
       "1  5218   12   10  1088  1096  1026  1037  36175                32        12   \n",
       "2   546    2    1   251   292   292   340  11576                63        26   \n",
       "3  1263    2    1   386   388   396   423  15130                66        27   \n",
       "4   594    4    3   240   250   293   321   9836               113        43   \n",
       "\n",
       "   CARDPM12  NUMPRM12  MAXADATE RFA_2  NGIFTALL  TIMELAG    AVGGIFT  \n",
       "0         6        14      9702   L4E        31      4.0   7.741935  \n",
       "1         6        13      9702   L2G         3     18.0  15.666667  \n",
       "2         6        14      9702   L4E        27     12.0   7.481481  \n",
       "3         6        14      9702   L4E        16      9.0   6.812500  \n",
       "4        10        25      9702   L2F        37     14.0   6.864865  "
      ]
     },
     "execution_count": 21,
     "metadata": {},
     "output_type": "execute_result"
    }
   ],
   "source": [
    "data.head()"
   ]
  },
  {
   "cell_type": "markdown",
   "metadata": {},
   "source": [
    "# 3 Numeric columns handling"
   ]
  },
  {
   "cell_type": "markdown",
   "metadata": {},
   "source": [
    "## 3.1 create a null dataframe"
   ]
  },
  {
   "cell_type": "code",
   "execution_count": 23,
   "metadata": {},
   "outputs": [],
   "source": [
    "nulls=pd.DataFrame(d_num.isna().sum()/len(d_num)) #work on the numerical first"
   ]
  },
  {
   "cell_type": "code",
   "execution_count": 25,
   "metadata": {},
   "outputs": [],
   "source": [
    "nulls.reset_index(inplace=True)"
   ]
  },
  {
   "cell_type": "code",
   "execution_count": 26,
   "metadata": {},
   "outputs": [
    {
     "data": {
      "text/html": [
       "<div>\n",
       "<style scoped>\n",
       "    .dataframe tbody tr th:only-of-type {\n",
       "        vertical-align: middle;\n",
       "    }\n",
       "\n",
       "    .dataframe tbody tr th {\n",
       "        vertical-align: top;\n",
       "    }\n",
       "\n",
       "    .dataframe thead th {\n",
       "        text-align: right;\n",
       "    }\n",
       "</style>\n",
       "<table border=\"1\" class=\"dataframe\">\n",
       "  <thead>\n",
       "    <tr style=\"text-align: right;\">\n",
       "      <th></th>\n",
       "      <th>column_name</th>\n",
       "      <th>percentage_nulls</th>\n",
       "    </tr>\n",
       "  </thead>\n",
       "  <tbody>\n",
       "    <tr>\n",
       "      <th>1</th>\n",
       "      <td>INCOME</td>\n",
       "      <td>0.222847</td>\n",
       "    </tr>\n",
       "    <tr>\n",
       "      <th>17</th>\n",
       "      <td>TIMELAG</td>\n",
       "      <td>0.106582</td>\n",
       "    </tr>\n",
       "    <tr>\n",
       "      <th>0</th>\n",
       "      <td>DOB</td>\n",
       "      <td>0.000000</td>\n",
       "    </tr>\n",
       "    <tr>\n",
       "      <th>10</th>\n",
       "      <td>IC5</td>\n",
       "      <td>0.000000</td>\n",
       "    </tr>\n",
       "    <tr>\n",
       "      <th>16</th>\n",
       "      <td>NGIFTALL</td>\n",
       "      <td>0.000000</td>\n",
       "    </tr>\n",
       "    <tr>\n",
       "      <th>15</th>\n",
       "      <td>MAXADATE</td>\n",
       "      <td>0.000000</td>\n",
       "    </tr>\n",
       "    <tr>\n",
       "      <th>14</th>\n",
       "      <td>NUMPRM12</td>\n",
       "      <td>0.000000</td>\n",
       "    </tr>\n",
       "    <tr>\n",
       "      <th>13</th>\n",
       "      <td>CARDPM12</td>\n",
       "      <td>0.000000</td>\n",
       "    </tr>\n",
       "    <tr>\n",
       "      <th>12</th>\n",
       "      <td>CARDPROM</td>\n",
       "      <td>0.000000</td>\n",
       "    </tr>\n",
       "    <tr>\n",
       "      <th>11</th>\n",
       "      <td>NUMPROM</td>\n",
       "      <td>0.000000</td>\n",
       "    </tr>\n",
       "    <tr>\n",
       "      <th>9</th>\n",
       "      <td>IC4</td>\n",
       "      <td>0.000000</td>\n",
       "    </tr>\n",
       "    <tr>\n",
       "      <th>8</th>\n",
       "      <td>IC3</td>\n",
       "      <td>0.000000</td>\n",
       "    </tr>\n",
       "    <tr>\n",
       "      <th>7</th>\n",
       "      <td>IC2</td>\n",
       "      <td>0.000000</td>\n",
       "    </tr>\n",
       "    <tr>\n",
       "      <th>6</th>\n",
       "      <td>IC1</td>\n",
       "      <td>0.000000</td>\n",
       "    </tr>\n",
       "    <tr>\n",
       "      <th>5</th>\n",
       "      <td>HV4</td>\n",
       "      <td>0.000000</td>\n",
       "    </tr>\n",
       "    <tr>\n",
       "      <th>4</th>\n",
       "      <td>HV3</td>\n",
       "      <td>0.000000</td>\n",
       "    </tr>\n",
       "    <tr>\n",
       "      <th>3</th>\n",
       "      <td>HV2</td>\n",
       "      <td>0.000000</td>\n",
       "    </tr>\n",
       "    <tr>\n",
       "      <th>2</th>\n",
       "      <td>HV1</td>\n",
       "      <td>0.000000</td>\n",
       "    </tr>\n",
       "    <tr>\n",
       "      <th>18</th>\n",
       "      <td>AVGGIFT</td>\n",
       "      <td>0.000000</td>\n",
       "    </tr>\n",
       "  </tbody>\n",
       "</table>\n",
       "</div>"
      ],
      "text/plain": [
       "   column_name  percentage_nulls\n",
       "1       INCOME          0.222847\n",
       "17     TIMELAG          0.106582\n",
       "0          DOB          0.000000\n",
       "10         IC5          0.000000\n",
       "16    NGIFTALL          0.000000\n",
       "15    MAXADATE          0.000000\n",
       "14    NUMPRM12          0.000000\n",
       "13    CARDPM12          0.000000\n",
       "12    CARDPROM          0.000000\n",
       "11     NUMPROM          0.000000\n",
       "9          IC4          0.000000\n",
       "8          IC3          0.000000\n",
       "7          IC2          0.000000\n",
       "6          IC1          0.000000\n",
       "5          HV4          0.000000\n",
       "4          HV3          0.000000\n",
       "3          HV2          0.000000\n",
       "2          HV1          0.000000\n",
       "18     AVGGIFT          0.000000"
      ]
     },
     "execution_count": 26,
     "metadata": {},
     "output_type": "execute_result"
    }
   ],
   "source": [
    "nulls.columns=['column_name', 'percentage_nulls']\n",
    "nulls.sort_values(by= 'percentage_nulls', ascending=False)"
   ]
  },
  {
   "cell_type": "code",
   "execution_count": 33,
   "metadata": {},
   "outputs": [
    {
     "data": {
      "text/html": [
       "<div>\n",
       "<style scoped>\n",
       "    .dataframe tbody tr th:only-of-type {\n",
       "        vertical-align: middle;\n",
       "    }\n",
       "\n",
       "    .dataframe tbody tr th {\n",
       "        vertical-align: top;\n",
       "    }\n",
       "\n",
       "    .dataframe thead th {\n",
       "        text-align: right;\n",
       "    }\n",
       "</style>\n",
       "<table border=\"1\" class=\"dataframe\">\n",
       "  <thead>\n",
       "    <tr style=\"text-align: right;\">\n",
       "      <th></th>\n",
       "      <th>DOB</th>\n",
       "      <th>INCOME</th>\n",
       "      <th>HV1</th>\n",
       "      <th>HV2</th>\n",
       "      <th>HV3</th>\n",
       "      <th>HV4</th>\n",
       "      <th>IC1</th>\n",
       "      <th>IC2</th>\n",
       "      <th>IC3</th>\n",
       "      <th>IC4</th>\n",
       "      <th>IC5</th>\n",
       "      <th>NUMPROM</th>\n",
       "      <th>CARDPROM</th>\n",
       "      <th>CARDPM12</th>\n",
       "      <th>NUMPRM12</th>\n",
       "      <th>MAXADATE</th>\n",
       "      <th>NGIFTALL</th>\n",
       "      <th>TIMELAG</th>\n",
       "      <th>AVGGIFT</th>\n",
       "    </tr>\n",
       "  </thead>\n",
       "  <tbody>\n",
       "    <tr>\n",
       "      <th>count</th>\n",
       "      <td>90568.000000</td>\n",
       "      <td>70386.000000</td>\n",
       "      <td>90568.000000</td>\n",
       "      <td>90568.000000</td>\n",
       "      <td>90568.000000</td>\n",
       "      <td>90568.000000</td>\n",
       "      <td>90568.000000</td>\n",
       "      <td>90568.000000</td>\n",
       "      <td>90568.000000</td>\n",
       "      <td>90568.000000</td>\n",
       "      <td>90568.000000</td>\n",
       "      <td>90568.000000</td>\n",
       "      <td>90568.000000</td>\n",
       "      <td>90568.000000</td>\n",
       "      <td>90568.000000</td>\n",
       "      <td>90568.000000</td>\n",
       "      <td>90568.000000</td>\n",
       "      <td>80916.000000</td>\n",
       "      <td>90568.000000</td>\n",
       "    </tr>\n",
       "    <tr>\n",
       "      <th>mean</th>\n",
       "      <td>2724.419861</td>\n",
       "      <td>3.878257</td>\n",
       "      <td>1056.365814</td>\n",
       "      <td>1127.396586</td>\n",
       "      <td>4.213387</td>\n",
       "      <td>3.865383</td>\n",
       "      <td>339.368044</td>\n",
       "      <td>386.225897</td>\n",
       "      <td>386.688941</td>\n",
       "      <td>429.972684</td>\n",
       "      <td>15681.854474</td>\n",
       "      <td>46.797578</td>\n",
       "      <td>18.370848</td>\n",
       "      <td>5.343433</td>\n",
       "      <td>12.837404</td>\n",
       "      <td>9701.640602</td>\n",
       "      <td>9.501446</td>\n",
       "      <td>8.114378</td>\n",
       "      <td>13.428568</td>\n",
       "    </tr>\n",
       "    <tr>\n",
       "      <th>std</th>\n",
       "      <td>2136.454475</td>\n",
       "      <td>1.855265</td>\n",
       "      <td>936.357737</td>\n",
       "      <td>942.138836</td>\n",
       "      <td>2.302247</td>\n",
       "      <td>2.239625</td>\n",
       "      <td>162.383738</td>\n",
       "      <td>173.076543</td>\n",
       "      <td>160.938606</td>\n",
       "      <td>171.325839</td>\n",
       "      <td>8508.737296</td>\n",
       "      <td>22.944818</td>\n",
       "      <td>8.582028</td>\n",
       "      <td>1.207107</td>\n",
       "      <td>4.499929</td>\n",
       "      <td>5.679915</td>\n",
       "      <td>8.495065</td>\n",
       "      <td>8.310877</td>\n",
       "      <td>10.796408</td>\n",
       "    </tr>\n",
       "    <tr>\n",
       "      <th>min</th>\n",
       "      <td>0.000000</td>\n",
       "      <td>1.000000</td>\n",
       "      <td>0.000000</td>\n",
       "      <td>0.000000</td>\n",
       "      <td>0.000000</td>\n",
       "      <td>0.000000</td>\n",
       "      <td>0.000000</td>\n",
       "      <td>0.000000</td>\n",
       "      <td>0.000000</td>\n",
       "      <td>0.000000</td>\n",
       "      <td>0.000000</td>\n",
       "      <td>4.000000</td>\n",
       "      <td>1.000000</td>\n",
       "      <td>0.000000</td>\n",
       "      <td>1.000000</td>\n",
       "      <td>9611.000000</td>\n",
       "      <td>1.000000</td>\n",
       "      <td>0.000000</td>\n",
       "      <td>1.285714</td>\n",
       "    </tr>\n",
       "    <tr>\n",
       "      <th>25%</th>\n",
       "      <td>112.000000</td>\n",
       "      <td>2.000000</td>\n",
       "      <td>511.000000</td>\n",
       "      <td>553.000000</td>\n",
       "      <td>3.000000</td>\n",
       "      <td>2.000000</td>\n",
       "      <td>230.000000</td>\n",
       "      <td>273.000000</td>\n",
       "      <td>277.000000</td>\n",
       "      <td>314.000000</td>\n",
       "      <td>10770.000000</td>\n",
       "      <td>27.000000</td>\n",
       "      <td>11.000000</td>\n",
       "      <td>5.000000</td>\n",
       "      <td>11.000000</td>\n",
       "      <td>9702.000000</td>\n",
       "      <td>3.000000</td>\n",
       "      <td>4.000000</td>\n",
       "      <td>8.454545</td>\n",
       "    </tr>\n",
       "    <tr>\n",
       "      <th>50%</th>\n",
       "      <td>2610.000000</td>\n",
       "      <td>4.000000</td>\n",
       "      <td>735.000000</td>\n",
       "      <td>800.000000</td>\n",
       "      <td>4.000000</td>\n",
       "      <td>3.000000</td>\n",
       "      <td>309.000000</td>\n",
       "      <td>355.000000</td>\n",
       "      <td>353.000000</td>\n",
       "      <td>396.000000</td>\n",
       "      <td>13692.000000</td>\n",
       "      <td>46.000000</td>\n",
       "      <td>18.000000</td>\n",
       "      <td>6.000000</td>\n",
       "      <td>12.000000</td>\n",
       "      <td>9702.000000</td>\n",
       "      <td>7.000000</td>\n",
       "      <td>6.000000</td>\n",
       "      <td>11.666667</td>\n",
       "    </tr>\n",
       "    <tr>\n",
       "      <th>75%</th>\n",
       "      <td>4601.000000</td>\n",
       "      <td>5.000000</td>\n",
       "      <td>1206.000000</td>\n",
       "      <td>1320.000000</td>\n",
       "      <td>5.000000</td>\n",
       "      <td>5.000000</td>\n",
       "      <td>414.000000</td>\n",
       "      <td>464.000000</td>\n",
       "      <td>465.000000</td>\n",
       "      <td>513.000000</td>\n",
       "      <td>18128.000000</td>\n",
       "      <td>64.000000</td>\n",
       "      <td>25.000000</td>\n",
       "      <td>6.000000</td>\n",
       "      <td>13.000000</td>\n",
       "      <td>9702.000000</td>\n",
       "      <td>13.000000</td>\n",
       "      <td>11.000000</td>\n",
       "      <td>15.625000</td>\n",
       "    </tr>\n",
       "    <tr>\n",
       "      <th>max</th>\n",
       "      <td>9710.000000</td>\n",
       "      <td>7.000000</td>\n",
       "      <td>6000.000000</td>\n",
       "      <td>6000.000000</td>\n",
       "      <td>13.000000</td>\n",
       "      <td>13.000000</td>\n",
       "      <td>1500.000000</td>\n",
       "      <td>1500.000000</td>\n",
       "      <td>1500.000000</td>\n",
       "      <td>1500.000000</td>\n",
       "      <td>159306.000000</td>\n",
       "      <td>195.000000</td>\n",
       "      <td>61.000000</td>\n",
       "      <td>19.000000</td>\n",
       "      <td>78.000000</td>\n",
       "      <td>9702.000000</td>\n",
       "      <td>237.000000</td>\n",
       "      <td>1088.000000</td>\n",
       "      <td>1000.000000</td>\n",
       "    </tr>\n",
       "  </tbody>\n",
       "</table>\n",
       "</div>"
      ],
      "text/plain": [
       "                DOB        INCOME           HV1           HV2           HV3  \\\n",
       "count  90568.000000  70386.000000  90568.000000  90568.000000  90568.000000   \n",
       "mean    2724.419861      3.878257   1056.365814   1127.396586      4.213387   \n",
       "std     2136.454475      1.855265    936.357737    942.138836      2.302247   \n",
       "min        0.000000      1.000000      0.000000      0.000000      0.000000   \n",
       "25%      112.000000      2.000000    511.000000    553.000000      3.000000   \n",
       "50%     2610.000000      4.000000    735.000000    800.000000      4.000000   \n",
       "75%     4601.000000      5.000000   1206.000000   1320.000000      5.000000   \n",
       "max     9710.000000      7.000000   6000.000000   6000.000000     13.000000   \n",
       "\n",
       "                HV4           IC1           IC2           IC3           IC4  \\\n",
       "count  90568.000000  90568.000000  90568.000000  90568.000000  90568.000000   \n",
       "mean       3.865383    339.368044    386.225897    386.688941    429.972684   \n",
       "std        2.239625    162.383738    173.076543    160.938606    171.325839   \n",
       "min        0.000000      0.000000      0.000000      0.000000      0.000000   \n",
       "25%        2.000000    230.000000    273.000000    277.000000    314.000000   \n",
       "50%        3.000000    309.000000    355.000000    353.000000    396.000000   \n",
       "75%        5.000000    414.000000    464.000000    465.000000    513.000000   \n",
       "max       13.000000   1500.000000   1500.000000   1500.000000   1500.000000   \n",
       "\n",
       "                 IC5       NUMPROM      CARDPROM      CARDPM12      NUMPRM12  \\\n",
       "count   90568.000000  90568.000000  90568.000000  90568.000000  90568.000000   \n",
       "mean    15681.854474     46.797578     18.370848      5.343433     12.837404   \n",
       "std      8508.737296     22.944818      8.582028      1.207107      4.499929   \n",
       "min         0.000000      4.000000      1.000000      0.000000      1.000000   \n",
       "25%     10770.000000     27.000000     11.000000      5.000000     11.000000   \n",
       "50%     13692.000000     46.000000     18.000000      6.000000     12.000000   \n",
       "75%     18128.000000     64.000000     25.000000      6.000000     13.000000   \n",
       "max    159306.000000    195.000000     61.000000     19.000000     78.000000   \n",
       "\n",
       "           MAXADATE      NGIFTALL       TIMELAG       AVGGIFT  \n",
       "count  90568.000000  90568.000000  80916.000000  90568.000000  \n",
       "mean    9701.640602      9.501446      8.114378     13.428568  \n",
       "std        5.679915      8.495065      8.310877     10.796408  \n",
       "min     9611.000000      1.000000      0.000000      1.285714  \n",
       "25%     9702.000000      3.000000      4.000000      8.454545  \n",
       "50%     9702.000000      7.000000      6.000000     11.666667  \n",
       "75%     9702.000000     13.000000     11.000000     15.625000  \n",
       "max     9702.000000    237.000000   1088.000000   1000.000000  "
      ]
     },
     "execution_count": 33,
     "metadata": {},
     "output_type": "execute_result"
    }
   ],
   "source": [
    "d_num.describe()"
   ]
  },
  {
   "cell_type": "code",
   "execution_count": 32,
   "metadata": {},
   "outputs": [
    {
     "data": {
      "text/plain": [
       "array([nan,  6.,  3.,  1.,  4.,  2.,  7.,  5.])"
      ]
     },
     "execution_count": 32,
     "metadata": {},
     "output_type": "execute_result"
    }
   ],
   "source": [
    "d_num['INCOME'].unique() #mode"
   ]
  },
  {
   "cell_type": "code",
   "execution_count": 34,
   "metadata": {},
   "outputs": [
    {
     "data": {
      "text/plain": [
       "4.0"
      ]
     },
     "execution_count": 34,
     "metadata": {},
     "output_type": "execute_result"
    }
   ],
   "source": [
    "d_num['INCOME'].median()"
   ]
  },
  {
   "cell_type": "code",
   "execution_count": 35,
   "metadata": {},
   "outputs": [
    {
     "data": {
      "text/plain": [
       "3.8782570397522234"
      ]
     },
     "execution_count": 35,
     "metadata": {},
     "output_type": "execute_result"
    }
   ],
   "source": [
    "d_num['INCOME'].mean()"
   ]
  },
  {
   "cell_type": "code",
   "execution_count": 37,
   "metadata": {},
   "outputs": [
    {
     "data": {
      "text/plain": [
       "<matplotlib.axes._subplots.AxesSubplot at 0x2a524fb8310>"
      ]
     },
     "execution_count": 37,
     "metadata": {},
     "output_type": "execute_result"
    },
    {
     "data": {
      "image/png": "[encoded data removed]",
      "text/plain": [
       "<Figure size 432x288 with 1 Axes>"
      ]
     },
     "metadata": {
      "needs_background": "light"
     },
     "output_type": "display_data"
    }
   ],
   "source": [
    "d_num['INCOME'].hist()"
   ]
  },
  {
   "cell_type": "code",
   "execution_count": 46,
   "metadata": {},
   "outputs": [],
   "source": [
    "median_d_num = d_num['INCOME'].median()"
   ]
  },
  {
   "cell_type": "code",
   "execution_count": 48,
   "metadata": {},
   "outputs": [],
   "source": [
    "median_d=d_num['INCOME'].fillna(median_d_num)"
   ]
  },
  {
   "cell_type": "code",
   "execution_count": 42,
   "metadata": {},
   "outputs": [
    {
     "data": {
      "text/plain": [
       "0    4.0\n",
       "1    6.0\n",
       "2    3.0\n",
       "3    1.0\n",
       "4    3.0\n",
       "5    4.0\n",
       "6    4.0\n",
       "7    2.0\n",
       "8    3.0\n",
       "9    4.0\n",
       "Name: INCOME, dtype: float64"
      ]
     },
     "execution_count": 42,
     "metadata": {},
     "output_type": "execute_result"
    }
   ],
   "source": [
    "median_d.head(10)"
   ]
  },
  {
   "cell_type": "code",
   "execution_count": 50,
   "metadata": {},
   "outputs": [
    {
     "data": {
      "text/plain": [
       "<matplotlib.axes._subplots.AxesSubplot at 0x2a5257cd340>"
      ]
     },
     "execution_count": 50,
     "metadata": {},
     "output_type": "execute_result"
    },
    {
     "data": {
      "image/png": "[encoded data removed]",
      "text/plain": [
       "<Figure size 432x288 with 1 Axes>"
      ]
     },
     "metadata": {
      "needs_background": "light"
     },
     "output_type": "display_data"
    }
   ],
   "source": [
    "median_d.hist()"
   ]
  },
  {
   "cell_type": "code",
   "execution_count": 53,
   "metadata": {},
   "outputs": [
    {
     "data": {
      "text/plain": [
       "0    0.0\n",
       "1    6.0\n",
       "2    3.0\n",
       "3    1.0\n",
       "4    3.0\n",
       "5    0.0\n",
       "6    4.0\n",
       "7    2.0\n",
       "8    3.0\n",
       "9    0.0\n",
       "Name: INCOME, dtype: float64"
      ]
     },
     "execution_count": 53,
     "metadata": {},
     "output_type": "execute_result"
    }
   ],
   "source": [
    "zeros_d=d_num['INCOME'].fillna(0)\n",
    "zeros_d.head(10)"
   ]
  },
  {
   "cell_type": "code",
   "execution_count": 54,
   "metadata": {},
   "outputs": [
    {
     "data": {
      "text/plain": [
       "<matplotlib.axes._subplots.AxesSubplot at 0x2a5259e7610>"
      ]
     },
     "execution_count": 54,
     "metadata": {},
     "output_type": "execute_result"
    },
    {
     "data": {
      "image/png": "[encoded data removed]",
      "text/plain": [
       "<Figure size 432x288 with 1 Axes>"
      ]
     },
     "metadata": {
      "needs_background": "light"
     },
     "output_type": "display_data"
    }
   ],
   "source": [
    "zeros_d.hist()"
   ]
  },
  {
   "cell_type": "markdown",
   "metadata": {},
   "source": [
    "### 3.2.1 after picking your method - apply to your dataframe\n",
    "we decided for susbtituting the nan in income with 0, to keep the categorical distribution"
   ]
  },
  {
   "cell_type": "code",
   "execution_count": 56,
   "metadata": {},
   "outputs": [],
   "source": [
    "d_num['INCOME'] = d_num['INCOME'].fillna(0)"
   ]
  },
  {
   "cell_type": "markdown",
   "metadata": {},
   "source": [
    "Check the other variables with nulls"
   ]
  },
  {
   "cell_type": "code",
   "execution_count": 58,
   "metadata": {},
   "outputs": [
    {
     "data": {
      "text/plain": [
       "5.0       8106\n",
       "4.0       8042\n",
       "3.0       7995\n",
       "6.0       6257\n",
       "2.0       5900\n",
       "          ... \n",
       "61.0         1\n",
       "55.0         1\n",
       "58.0         1\n",
       "62.0         1\n",
       "1088.0       1\n",
       "Name: TIMELAG, Length: 67, dtype: int64"
      ]
     },
     "execution_count": 58,
     "metadata": {},
     "output_type": "execute_result"
    }
   ],
   "source": [
    "d_num['TIMELAG'].value_counts()"
   ]
  },
  {
   "cell_type": "code",
   "execution_count": 59,
   "metadata": {},
   "outputs": [
    {
     "data": {
      "text/plain": [
       "count    80916.000000\n",
       "mean         8.114378\n",
       "std          8.310877\n",
       "min          0.000000\n",
       "25%          4.000000\n",
       "50%          6.000000\n",
       "75%         11.000000\n",
       "max       1088.000000\n",
       "Name: TIMELAG, dtype: float64"
      ]
     },
     "execution_count": 59,
     "metadata": {},
     "output_type": "execute_result"
    }
   ],
   "source": [
    "d_num['TIMELAG'].describe()"
   ]
  },
  {
   "cell_type": "code",
   "execution_count": 62,
   "metadata": {},
   "outputs": [],
   "source": [
    "timelag=d_num['TIMELAG']\n",
    "timelag = timelag[timelag<30]"
   ]
  },
  {
   "cell_type": "code",
   "execution_count": 63,
   "metadata": {},
   "outputs": [
    {
     "data": {
      "text/plain": [
       "<matplotlib.axes._subplots.AxesSubplot at 0x2a525c5a9d0>"
      ]
     },
     "execution_count": 63,
     "metadata": {},
     "output_type": "execute_result"
    },
    {
     "data": {
      "image/png": "[encoded data removed]",
      "text/plain": [
       "<Figure size 432x288 with 1 Axes>"
      ]
     },
     "metadata": {
      "needs_background": "light"
     },
     "output_type": "display_data"
    }
   ],
   "source": [
    "timelag.hist(bins=30)"
   ]
  },
  {
   "cell_type": "markdown",
   "metadata": {},
   "source": [
    "what do we do with the nulls here?\n",
    "- it's 10% of the data so we can drop them?\n",
    "- we can recode the variable in a categorical variable and add the category 'unknown'\n",
    "- investigate a bit more these data to see whether they are important and then decide"
   ]
  },
  {
   "cell_type": "code",
   "execution_count": 65,
   "metadata": {},
   "outputs": [
    {
     "data": {
      "text/plain": [
       "<matplotlib.axes._subplots.AxesSubplot at 0x2a525cd80a0>"
      ]
     },
     "execution_count": 65,
     "metadata": {},
     "output_type": "execute_result"
    },
    {
     "data": {
      "image/png": "[encoded data removed]",
      "text/plain": [
       "<Figure size 432x288 with 1 Axes>"
      ]
     },
     "metadata": {
      "needs_background": "light"
     },
     "output_type": "display_data"
    }
   ],
   "source": [
    "sns.scatterplot(data=d_num, x=\"TIMELAG\", y='AVGGIFT')"
   ]
  },
  {
   "cell_type": "markdown",
   "metadata": {},
   "source": [
    "#to see what this graph means we need to remove the outliers first and then do the scatterplot again\n",
    "-IQR\n",
    "-upper limit\n",
    "-excluding anyuthing over upper limit\n",
    "or filter by a fixed limit"
   ]
  },
  {
   "cell_type": "markdown",
   "metadata": {},
   "source": [
    "#pd.cut or pd.qcut\n",
    "#OR create function to bucket\n"
   ]
  },
  {
   "cell_type": "code",
   "execution_count": null,
   "metadata": {},
   "outputs": [],
   "source": []
  }
 ],
 "metadata": {
  "kernelspec": {
   "display_name": "Python 3",
   "language": "python",
   "name": "python3"
  },
  "language_info": {
   "codemirror_mode": {
    "name": "ipython",
    "version": 3
   },
   "file_extension": ".py",
   "mimetype": "text/x-python",
   "name": "python",
   "nbconvert_exporter": "python",
   "pygments_lexer": "ipython3",
   "version": "3.8.5"
  }
 },
 "nbformat": 4,
 "nbformat_minor": 4
}
