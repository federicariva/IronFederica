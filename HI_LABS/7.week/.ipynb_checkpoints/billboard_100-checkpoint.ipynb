{
 "cells": [
  {
   "cell_type": "code",
   "execution_count": 1,
   "metadata": {},
   "outputs": [],
   "source": [
    "# 1. Function to create a dataframe with the 100 hot songs from billboard\n",
    "def create_song_dataframe ():\n",
    "    \n",
    "    #Importing necessary libraries\n",
    "    import pandas as pd\n",
    "    import requests\n",
    "    from bs4 import BeautifulSoup\n",
    "    from tqdm.notebook import tqdm\n",
    "        \n",
    "    # get the website url\n",
    "    url = 'https://www.billboard.com/charts/hot-100'\n",
    "    \n",
    "    #run request on url\n",
    "    response = requests.get(url, headers = {\"Accept-Language\" : \"en-US\"}) \n",
    "    \n",
    "    #parse the html as soup\n",
    "    soup = BeautifulSoup(response.content,'html.parser') \n",
    "    \n",
    "    #get the number of songs\n",
    "    len_songs = len(soup.select('h3.c-title.a-no-trucate'))\n",
    "    \n",
    "    #create empty lists to store song titles and song authors\n",
    "    song_title = []\n",
    "    song_auth = []\n",
    "    rank_position = []\n",
    "    \n",
    "    for i in tqdm(range(len_songs)): \n",
    "        rank_position.append(i+1)\n",
    "        song_title.append(soup.select('h3.c-title.a-no-trucate')[i].get_text(strip = True))\n",
    "        song_auth.append(soup.select('span.c-label.a-no-trucate')[i].get_text(strip = True))\n",
    "    \n",
    "    # Clean and create a dataframe with this info\n",
    "    song_100 = pd.DataFrame({'position': rank_position,\n",
    "                             'title':song_title,\n",
    "                             'author':song_auth})\n",
    "    song_100 = song_100.applymap(lambda s:s.lower() if type(s) == str else s)\n",
    "    return (song_100)"
   ]
  },
  {
   "cell_type": "code",
   "execution_count": 2,
   "metadata": {},
   "outputs": [
    {
     "data": {
      "application/vnd.jupyter.widget-view+json": {
       "model_id": "a8987fa7cad0428bbfc20620f4ef09e1",
       "version_major": 2,
       "version_minor": 0
      },
      "text/plain": [
       "  0%|          | 0/100 [00:00<?, ?it/s]"
      ]
     },
     "metadata": {},
     "output_type": "display_data"
    }
   ],
   "source": [
    "df = create_song_dataframe ()"
   ]
  },
  {
   "cell_type": "code",
   "execution_count": 3,
   "metadata": {},
   "outputs": [
    {
     "data": {
      "text/html": [
       "<div>\n",
       "<style scoped>\n",
       "    .dataframe tbody tr th:only-of-type {\n",
       "        vertical-align: middle;\n",
       "    }\n",
       "\n",
       "    .dataframe tbody tr th {\n",
       "        vertical-align: top;\n",
       "    }\n",
       "\n",
       "    .dataframe thead th {\n",
       "        text-align: right;\n",
       "    }\n",
       "</style>\n",
       "<table border=\"1\" class=\"dataframe\">\n",
       "  <thead>\n",
       "    <tr style=\"text-align: right;\">\n",
       "      <th></th>\n",
       "      <th>position</th>\n",
       "      <th>title</th>\n",
       "      <th>author</th>\n",
       "    </tr>\n",
       "  </thead>\n",
       "  <tbody>\n",
       "    <tr>\n",
       "      <th>0</th>\n",
       "      <td>1</td>\n",
       "      <td>first class</td>\n",
       "      <td>jack harlow</td>\n",
       "    </tr>\n",
       "    <tr>\n",
       "      <th>1</th>\n",
       "      <td>2</td>\n",
       "      <td>as it was</td>\n",
       "      <td>harry styles</td>\n",
       "    </tr>\n",
       "    <tr>\n",
       "      <th>2</th>\n",
       "      <td>3</td>\n",
       "      <td>n95</td>\n",
       "      <td>kendrick lamar</td>\n",
       "    </tr>\n",
       "    <tr>\n",
       "      <th>3</th>\n",
       "      <td>4</td>\n",
       "      <td>wait for u</td>\n",
       "      <td>future featuring drake &amp; tems</td>\n",
       "    </tr>\n",
       "    <tr>\n",
       "      <th>4</th>\n",
       "      <td>5</td>\n",
       "      <td>die hard</td>\n",
       "      <td>kendrick lamar, blxst &amp; amanda reifer</td>\n",
       "    </tr>\n",
       "    <tr>\n",
       "      <th>...</th>\n",
       "      <td>...</td>\n",
       "      <td>...</td>\n",
       "      <td>...</td>\n",
       "    </tr>\n",
       "    <tr>\n",
       "      <th>95</th>\n",
       "      <td>96</td>\n",
       "      <td>the motto</td>\n",
       "      <td>tiesto &amp; ava max</td>\n",
       "    </tr>\n",
       "    <tr>\n",
       "      <th>96</th>\n",
       "      <td>97</td>\n",
       "      <td>me fui de vacaciones</td>\n",
       "      <td>bad bunny</td>\n",
       "    </tr>\n",
       "    <tr>\n",
       "      <th>97</th>\n",
       "      <td>98</td>\n",
       "      <td>hold my hand</td>\n",
       "      <td>lady gaga</td>\n",
       "    </tr>\n",
       "    <tr>\n",
       "      <th>98</th>\n",
       "      <td>99</td>\n",
       "      <td>ensename a bailar</td>\n",
       "      <td>bad bunny</td>\n",
       "    </tr>\n",
       "    <tr>\n",
       "      <th>99</th>\n",
       "      <td>100</td>\n",
       "      <td>flowers</td>\n",
       "      <td>lauren spencer-smith</td>\n",
       "    </tr>\n",
       "  </tbody>\n",
       "</table>\n",
       "<p>100 rows × 3 columns</p>\n",
       "</div>"
      ],
      "text/plain": [
       "    position                 title                                 author\n",
       "0          1           first class                            jack harlow\n",
       "1          2             as it was                           harry styles\n",
       "2          3                   n95                         kendrick lamar\n",
       "3          4            wait for u          future featuring drake & tems\n",
       "4          5              die hard  kendrick lamar, blxst & amanda reifer\n",
       "..       ...                   ...                                    ...\n",
       "95        96             the motto                       tiesto & ava max\n",
       "96        97  me fui de vacaciones                              bad bunny\n",
       "97        98          hold my hand                              lady gaga\n",
       "98        99     ensename a bailar                              bad bunny\n",
       "99       100               flowers                   lauren spencer-smith\n",
       "\n",
       "[100 rows x 3 columns]"
      ]
     },
     "execution_count": 3,
     "metadata": {},
     "output_type": "execute_result"
    }
   ],
   "source": [
    "df"
   ]
  }
 ],
 "metadata": {
  "kernelspec": {
   "display_name": "Python 3",
   "language": "python",
   "name": "python3"
  },
  "language_info": {
   "codemirror_mode": {
    "name": "ipython",
    "version": 3
   },
   "file_extension": ".py",
   "mimetype": "text/x-python",
   "name": "python",
   "nbconvert_exporter": "python",
   "pygments_lexer": "ipython3",
   "version": "3.8.5"
  }
 },
 "nbformat": 4,
 "nbformat_minor": 4
}
